{
 "cells": [
  {
   "cell_type": "code",
   "execution_count": 3,
   "metadata": {},
   "outputs": [
    {
     "name": "stdout",
     "output_type": "stream",
     "text": [
      "b'Hello, world!'\n"
     ]
    }
   ],
   "source": [
    "import tensorflow as tf\n",
    "c = tf.constant('Hello, world!')\n",
    "with tf.Session() as sess:\n",
    "    print(sess.run(c))"
   ]
  },
  {
   "cell_type": "markdown",
   "metadata": {},
   "source": [
    "The above code block prints 'Hello, World'."
   ]
  },
  {
   "cell_type": "markdown",
   "metadata": {},
   "source": [
    "TensorFlow gets its name from tensors, which are arrays of arbitrary dimensionality. Using TensorFlow, you can manipulate tensors with a very high number of dimensions. That said, most of the time you will work with one or more of the following low-dimensional tensors:\n",
    "\n",
    "1. A scalar is a 0-d array (a 0th-order tensor). For example, \"Howdy\" or 5\n",
    "\n",
    "2. A vector is a 1-d array (a 1st-order tensor). For example, [2, 3, 5, 7, 11] or [5]\n",
    "\n",
    "3. A matrix is a 2-d array (a 2nd-order tensor). For example, [[3.1, 8.2, 5.9],[4.3, -2.7, 6.5]]"
   ]
  },
  {
   "cell_type": "markdown",
   "metadata": {},
   "source": [
    "TensorFlow operations create, destroy, and manipulate tensors. Most of the lines of code in a typical TensorFlow program are operations"
   ]
  },
  {
   "cell_type": "markdown",
   "metadata": {},
   "source": [
    "A TensorFlow graph (also known as a computational graph or a dataflow graph) is, yes, a graph data structure. A graph's nodes are operations (in TensorFlow, every operation is associated with a graph). Many TensorFlow programs consist of a single graph, but TensorFlow programs may optionally create multiple graphs. A graph's nodes are operations; a graph's edges are tensors. Tensors flow through the graph, manipulated at each node by an operation. The output tensor of one operation often becomes the input tensor to a subsequent operation. TensorFlow implements a lazy execution model, meaning that nodes are only computed when needed, based on the needs of associated nodes."
   ]
  },
  {
   "cell_type": "markdown",
   "metadata": {},
   "source": [
    "Tensors can be stored in the graph as constants or variables. As you might guess, constants hold tensors whose values can't change, while variables hold tensors whose values can change. However, what you may not have guessed is that constants and variables are just more operations in the graph. A constant is an operation that always returns the same tensor value. A variable is an operation that will return whichever tensor has been assigned to it."
   ]
  },
  {
   "cell_type": "markdown",
   "metadata": {},
   "source": [
    "To define a constant, use the tf.constant operator and pass in its value."
   ]
  },
  {
   "cell_type": "code",
   "execution_count": 4,
   "metadata": {},
   "outputs": [],
   "source": [
    "x = tf.constant(\"Constant\")"
   ]
  },
  {
   "cell_type": "markdown",
   "metadata": {},
   "source": [
    "To define a variable, use the tf.Variable operator and pass in its value."
   ]
  },
  {
   "cell_type": "code",
   "execution_count": 5,
   "metadata": {},
   "outputs": [],
   "source": [
    "y = tf.Variable([5])"
   ]
  },
  {
   "cell_type": "markdown",
   "metadata": {},
   "source": [
    "You can create the variable first and then subsequently assign a value (note that you always have to specify a default value)."
   ]
  },
  {
   "cell_type": "code",
   "execution_count": 6,
   "metadata": {},
   "outputs": [],
   "source": [
    "y = tf.Variable([0])\n",
    "y = y.assign([5])"
   ]
  },
  {
   "cell_type": "markdown",
   "metadata": {},
   "source": [
    "Once you've defined some constants or variables, you can combine them with other operations like tf.add. When you evaluate the tf.add operation, it will call your tf.constant or tf.Variable operations to get their values and then return a new tensor with the sum of those values."
   ]
  },
  {
   "cell_type": "markdown",
   "metadata": {},
   "source": [
    "Graphs must run within a TensorFlow session, which holds the state for the graph(s) it runs."
   ]
  },
  {
   "cell_type": "code",
   "execution_count": 8,
   "metadata": {},
   "outputs": [
    {
     "name": "stdout",
     "output_type": "stream",
     "text": [
      "[5]\n"
     ]
    }
   ],
   "source": [
    "with tf.Session() as sess:\n",
    "  initialization = tf.global_variables_initializer()\n",
    "  print(y.eval())"
   ]
  },
  {
   "cell_type": "markdown",
   "metadata": {},
   "source": [
    "When working with tf.Variables, you must explicitly initialize them by calling tf.global_variables_initializer at the start of your session."
   ]
  },
  {
   "cell_type": "markdown",
   "metadata": {},
   "source": [
    "TensorFlow programming is essentially a two-step process:\n",
    "\n",
    "1. Assemble constants, variables, and operations into a graph.\n",
    "2. Evaluate those constants, variables and operations within a session."
   ]
  },
  {
   "cell_type": "markdown",
   "metadata": {},
   "source": [
    "First program in Tensorflow :"
   ]
  },
  {
   "cell_type": "code",
   "execution_count": 9,
   "metadata": {},
   "outputs": [
    {
     "name": "stdout",
     "output_type": "stream",
     "text": [
      "13\n"
     ]
    }
   ],
   "source": [
    "import tensorflow as tf\n",
    "\n",
    "# Create a graph.\n",
    "g = tf.Graph()\n",
    "\n",
    "# Establish the graph as the \"default\" graph.\n",
    "with g.as_default():\n",
    "  # Assemble a graph consisting of the following three operations:\n",
    "  #   * Two tf.constant operations to create the operands.\n",
    "  #   * One tf.add operation to add the two operands.\n",
    "  x = tf.constant(8, name=\"x_const\")\n",
    "  y = tf.constant(5, name=\"y_const\")\n",
    "  my_sum = tf.add(x, y, name=\"x_y_sum\")\n",
    "\n",
    "\n",
    "  # Now create a session.\n",
    "  # The session will run the default graph.\n",
    "  with tf.Session() as sess:\n",
    "    print(my_sum.eval())"
   ]
  },
  {
   "cell_type": "markdown",
   "metadata": {},
   "source": [
    "As with nearly all Python programs, you'll begin by specifying some import statements. The set of import statements required to run a TensorFlow program depends, of course, on the features your program will access. At a minimum, you must provide the import tensorflow statement in all TensorFlow programs."
   ]
  },
  {
   "cell_type": "markdown",
   "metadata": {},
   "source": [
    "Other common import statements include the following:\n",
    "\n",
    "1. import matplotlib.pyplot as plt # Dataset visualization.\n",
    "2. import numpy as np              # Low-level numerical Python library.\n",
    "3. import pandas as pd             # Higher-level numerical Python library."
   ]
  },
  {
   "cell_type": "markdown",
   "metadata": {},
   "source": [
    "TensorFlow provides a default graph. However, explicitly create your own Graph instead to facilitate tracking state (e.g., you may wish to work with a different Graph in each cell)."
   ]
  },
  {
   "cell_type": "markdown",
   "metadata": {},
   "source": [
    "Hence, we have covered the Fundamental components of a TensorFlow application: tensors, operations, graphs, and sessions."
   ]
  }
 ],
 "metadata": {
  "kernelspec": {
   "display_name": "Python 3",
   "language": "python",
   "name": "python3"
  },
  "language_info": {
   "codemirror_mode": {
    "name": "ipython",
    "version": 3
   },
   "file_extension": ".py",
   "mimetype": "text/x-python",
   "name": "python",
   "nbconvert_exporter": "python",
   "pygments_lexer": "ipython3",
   "version": "3.6.5"
  }
 },
 "nbformat": 4,
 "nbformat_minor": 2
}
